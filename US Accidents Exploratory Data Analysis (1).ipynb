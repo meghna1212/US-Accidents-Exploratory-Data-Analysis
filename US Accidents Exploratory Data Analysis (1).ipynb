{
 "cells": [
  {
   "cell_type": "markdown",
   "metadata": {},
   "source": [
    "# US Accidents Exploratory Data Analysis"
   ]
  },
  {
   "cell_type": "markdown",
   "metadata": {},
   "source": [
    "In this project, we will be performaing exploratory data analysis on a Kaggle dataset which is a countrywide car accident dataset, which covers 49 states of the USA. \n",
    "The accident data are collected from February 2016 to Dec 2020, using multiple APIs that provide streaming traffic incident (or event) data. \n",
    "There are  about 1.5 million accident records in this dataset.\n",
    "\n",
    "Aim of the analysis: \n",
    "This analysis can further be used by the authorities to study car accidents hotspot locations and prevent accidents in the future and to help them take certain steps by taking preventive measures which can help curb the occurrence of such incidents."
   ]
  },
  {
   "cell_type": "markdown",
   "metadata": {},
   "source": [
    "### Step One: Download the dataset and pre-process/clean it using Pandas and Numpy"
   ]
  },
  {
   "cell_type": "code",
   "execution_count": null,
   "metadata": {},
   "outputs": [],
   "source": [
    "import numpy as np\n",
    "import pandas as pd\n",
    "import matplotlib.pyplot as plt\n",
    "import seaborn as sns"
   ]
  },
  {
   "cell_type": "code",
   "execution_count": null,
   "metadata": {},
   "outputs": [],
   "source": [
    "accident_dataset = pd.read_csv(\"C:\\\\Users\\\\Meghna\\\\Downloads\\\\archive\\\\US_Accidents_Dec20_updated.csv\")"
   ]
  },
  {
   "cell_type": "markdown",
   "metadata": {},
   "source": [
    "Steps we'll be performing here are:\n",
    "1. Look at the information in the dataset and get a basic understanding of the data\n",
    "2. Fill in any missing values in the dataset and clean it"
   ]
  },
  {
   "cell_type": "code",
   "execution_count": null,
   "metadata": {},
   "outputs": [],
   "source": [
    "accident_dataset.head()"
   ]
  },
  {
   "cell_type": "code",
   "execution_count": null,
   "metadata": {},
   "outputs": [],
   "source": [
    "accident_dataset.shape\n",
    "#The dataset has 1.5 million rows and 47 columns"
   ]
  },
  {
   "cell_type": "code",
   "execution_count": null,
   "metadata": {},
   "outputs": [],
   "source": [
    "accident_dataset.info()"
   ]
  },
  {
   "cell_type": "code",
   "execution_count": null,
   "metadata": {},
   "outputs": [],
   "source": [
    "accident_dataset.describe()"
   ]
  },
  {
   "cell_type": "code",
   "execution_count": null,
   "metadata": {},
   "outputs": [],
   "source": [
    "#How many  numeric columns are there in the dataset?\n",
    "numerics = ['int16', 'int32', 'int64', 'float16', 'float32', 'float64']\n",
    "numeric_dataset = accident_dataset.select_dtypes(include=numerics)\n",
    "print(numeric_dataset.shape)\n",
    "numeric_dataset"
   ]
  },
  {
   "cell_type": "markdown",
   "metadata": {},
   "source": [
    "So, we'll be working with 14 columns having numeric values. All the other columns have categorical/date-time etc. values"
   ]
  },
  {
   "cell_type": "code",
   "execution_count": null,
   "metadata": {},
   "outputs": [],
   "source": [
    "#How many NULL values are there in each column?\n",
    "\n",
    "accident_dataset.isnull().sum().sort_values(ascending=False)"
   ]
  },
  {
   "cell_type": "code",
   "execution_count": null,
   "metadata": {},
   "outputs": [],
   "source": [
    "#What is the percentage of NULL values in each column?\n",
    "missing_val = accident_dataset.isnull().sum().sort_values(ascending=False)/len(accident_dataset) * 100\n",
    "missing_val[missing_val>0]"
   ]
  },
  {
   "cell_type": "code",
   "execution_count": null,
   "metadata": {},
   "outputs": [],
   "source": [
    "#Visulaize the number of missing values in our dataset\n",
    "import missingno as msn\n",
    "msn.bar(accident_dataset)"
   ]
  },
  {
   "cell_type": "markdown",
   "metadata": {},
   "source": [
    "Since Number column has a lot of missing values, we'll drop that column all together and not use it in our analysis"
   ]
  },
  {
   "cell_type": "code",
   "execution_count": null,
   "metadata": {},
   "outputs": [],
   "source": [
    "accident_dataset['Weather_Condition'].isnull().sum()"
   ]
  },
  {
   "cell_type": "markdown",
   "metadata": {},
   "source": [
    "### Step Two: Exploratory analysis and visualization"
   ]
  },
  {
   "cell_type": "markdown",
   "metadata": {},
   "source": [
    "We'll be analysisng and exploring the following columns in our dataset:\n",
    "1. City: Shows the city in address record.\n",
    "2. Start Time: Shows start time of the accident in local time zone.\n",
    "3. Start Lat, Start Long: Shows latitude in GPS coordinate of the start point // Shows longitude in GPS coordinate of the start point of accident.\n",
    "4. Temperature: Shows the temperature (in Fahrenheit).\n",
    "5. Weather condition: Shows the weather condition (rain, snow, thunderstorm, fog, etc.)"
   ]
  },
  {
   "cell_type": "markdown",
   "metadata": {},
   "source": [
    "#### Analysing City column"
   ]
  },
  {
   "cell_type": "code",
   "execution_count": null,
   "metadata": {},
   "outputs": [],
   "source": [
    "cities = accident_dataset['City']\n",
    "cities"
   ]
  },
  {
   "cell_type": "markdown",
   "metadata": {},
   "source": [
    "#### Q. What are the unique cities of USA where accidents have taken place?"
   ]
  },
  {
   "cell_type": "code",
   "execution_count": null,
   "metadata": {},
   "outputs": [],
   "source": [
    "unique_cities = cities.unique()\n",
    "print(\"The number of unique cities where accidents have taken place in USA: \",len(unique_cities))\n",
    "unique_cities"
   ]
  },
  {
   "cell_type": "markdown",
   "metadata": {},
   "source": [
    "#### Q. What are the number of accidents in each city?"
   ]
  },
  {
   "cell_type": "code",
   "execution_count": null,
   "metadata": {},
   "outputs": [],
   "source": [
    "unique_city_count = cities.value_counts()\n",
    "unique_city_count"
   ]
  },
  {
   "cell_type": "markdown",
   "metadata": {},
   "source": [
    "#### Q. What are the Top 10 Cities of USA with highest number of accidents?"
   ]
  },
  {
   "cell_type": "code",
   "execution_count": null,
   "metadata": {},
   "outputs": [],
   "source": [
    "print(\"The Top 10 Cities of USA with highest number of accidents are:\")\n",
    "unique_city_count[:11]"
   ]
  },
  {
   "cell_type": "code",
   "execution_count": null,
   "metadata": {},
   "outputs": [],
   "source": [
    "'New York' in unique_city_count"
   ]
  },
  {
   "cell_type": "code",
   "execution_count": null,
   "metadata": {},
   "outputs": [],
   "source": [
    "unique_city_count[:20].plot(kind='barh')"
   ]
  },
  {
   "cell_type": "markdown",
   "metadata": {},
   "source": [
    "#### Q. What is the percentage of cities having more than 1000 yearly accidents?"
   ]
  },
  {
   "cell_type": "code",
   "execution_count": null,
   "metadata": {},
   "outputs": [],
   "source": [
    "percent_moreThan1000 = len(unique_city_count[unique_city_count>1000]) / len(unique_city_count) * 100\n",
    "print(\"The percentage of cities have more than 1000 accidents in a year is: \", percent_moreThan1000, \", which is less than 5%.\")"
   ]
  },
  {
   "cell_type": "code",
   "execution_count": null,
   "metadata": {},
   "outputs": [],
   "source": [
    "high_accident_cities = unique_city_count[unique_city_count>1000]\n",
    "sns.distplot(high_accident_cities)"
   ]
  },
  {
   "cell_type": "markdown",
   "metadata": {},
   "source": [
    "#### Q. What are the cities having only 1 accident?"
   ]
  },
  {
   "cell_type": "code",
   "execution_count": null,
   "metadata": {},
   "outputs": [],
   "source": [
    "one_accident_cities = unique_city_count[unique_city_count == 1]\n",
    "one_accident_cities\n",
    "print(len(one_accident_cities))"
   ]
  },
  {
   "cell_type": "markdown",
   "metadata": {},
   "source": [
    "This must be investigates further as these 1167 cities have had only 1 accident in the past 4 years. So the preventive measures taken must be analysed"
   ]
  },
  {
   "cell_type": "markdown",
   "metadata": {},
   "source": [
    "#### Analysing Start Time column"
   ]
  },
  {
   "cell_type": "code",
   "execution_count": null,
   "metadata": {},
   "outputs": [],
   "source": [
    "accident_dataset['Start_Time']"
   ]
  },
  {
   "cell_type": "code",
   "execution_count": null,
   "metadata": {},
   "outputs": [],
   "source": [
    "accident_dataset['Start_Time'] = pd.to_datetime(accident_dataset['Start_Time'])\n",
    "accident_dataset['Start_Time']\n",
    "#We converted object data type to datetime data type"
   ]
  },
  {
   "cell_type": "code",
   "execution_count": null,
   "metadata": {},
   "outputs": [],
   "source": [
    "accident_dataset['Start_Time'].dt.hour"
   ]
  },
  {
   "cell_type": "markdown",
   "metadata": {},
   "source": [
    "#### The distribution plot for the hours in the day during which an accident takes place"
   ]
  },
  {
   "cell_type": "code",
   "execution_count": null,
   "metadata": {},
   "outputs": [],
   "source": [
    "sns.distplot(accident_dataset['Start_Time'].dt.hour)"
   ]
  },
  {
   "cell_type": "markdown",
   "metadata": {},
   "source": [
    "#### Q. During which hour do the maximum number of accidents take place?"
   ]
  },
  {
   "cell_type": "code",
   "execution_count": null,
   "metadata": {},
   "outputs": [],
   "source": [
    "accident_dataset['Start_Time'].dt.hour.value_counts()"
   ]
  },
  {
   "cell_type": "markdown",
   "metadata": {},
   "source": [
    "#### Q. During which day of the week do the maximum number of accidents take place?"
   ]
  },
  {
   "cell_type": "code",
   "execution_count": null,
   "metadata": {},
   "outputs": [],
   "source": [
    "accident_dataset['Start_Time'].dt.dayofweek.value_counts()\n",
    "#The day of the week with Monday=0, Sunday=6."
   ]
  },
  {
   "cell_type": "code",
   "execution_count": null,
   "metadata": {},
   "outputs": [],
   "source": [
    "sns.distplot(accident_dataset['Start_Time'].dt.dayofweek)"
   ]
  },
  {
   "cell_type": "markdown",
   "metadata": {},
   "source": [
    "#### Q.Is the distribution of accidents by hour same on weekdays as that on Sunday?"
   ]
  },
  {
   "cell_type": "code",
   "execution_count": null,
   "metadata": {},
   "outputs": [],
   "source": [
    "start_time_dataset = accident_dataset['Start_Time']\n",
    "start_time_dataset_weekend = start_time_dataset[accident_dataset['Start_Time'].dt.dayofweek == 6]\n",
    "start_time_dataset_weekend"
   ]
  },
  {
   "cell_type": "code",
   "execution_count": null,
   "metadata": {},
   "outputs": [],
   "source": [
    "sns.distplot(start_time_dataset_weekend.dt.hour)"
   ]
  },
  {
   "cell_type": "markdown",
   "metadata": {},
   "source": [
    "It's roughly the same, but there are a lot more accidents in the morning as compared to that on weekdays"
   ]
  },
  {
   "cell_type": "markdown",
   "metadata": {},
   "source": [
    "#### Q.Which US state has the highest number of accidents?"
   ]
  },
  {
   "cell_type": "code",
   "execution_count": null,
   "metadata": {},
   "outputs": [],
   "source": [
    "state_wise_counts= accident_dataset['State'].value_counts()[:20]\n",
    "state_wise_counts"
   ]
  },
  {
   "cell_type": "markdown",
   "metadata": {},
   "source": [
    "As we can clearly see, the state having the most number of accidents is California followed by Florida."
   ]
  },
  {
   "cell_type": "code",
   "execution_count": null,
   "metadata": {},
   "outputs": [],
   "source": [
    "state_wise_counts[:11].plot(kind='barh')"
   ]
  },
  {
   "cell_type": "markdown",
   "metadata": {},
   "source": [
    "#### Analysing Start Lat and Start Long"
   ]
  },
  {
   "cell_type": "code",
   "execution_count": null,
   "metadata": {},
   "outputs": [],
   "source": [
    "accident_dataset['Start_Lat']"
   ]
  },
  {
   "cell_type": "code",
   "execution_count": null,
   "metadata": {},
   "outputs": [],
   "source": [
    "accident_dataset['Start_Lng']"
   ]
  },
  {
   "cell_type": "code",
   "execution_count": null,
   "metadata": {},
   "outputs": [],
   "source": [
    "sns.scatterplot(x=accident_dataset['Start_Lng'], y=accident_dataset['Start_Lat'])"
   ]
  },
  {
   "cell_type": "markdown",
   "metadata": {},
   "source": [
    "As, we can see the density of points is more at the eastern and western coasts as compared to the middle of the country"
   ]
  },
  {
   "cell_type": "code",
   "execution_count": null,
   "metadata": {},
   "outputs": [],
   "source": [
    "list(zip(accident_dataset['Start_Lat'],accident_dataset['Start_Lng']))[:10]"
   ]
  },
  {
   "cell_type": "code",
   "execution_count": null,
   "metadata": {},
   "outputs": [],
   "source": [
    "from folium import plugins\n",
    "from folium.plugins import HeatMap"
   ]
  },
  {
   "cell_type": "code",
   "execution_count": null,
   "metadata": {},
   "outputs": [],
   "source": [
    "mapWorld = folium.Map()\n",
    "HeatMap(zip(accident_dataset['Start_Lat'],accident_dataset['Start_Lng'])).add_to(mapWorld)\n",
    "mapWorld"
   ]
  },
  {
   "cell_type": "markdown",
   "metadata": {},
   "source": [
    "### Step Three: Summarizing the inferences and drawing a conclusion"
   ]
  },
  {
   "cell_type": "markdown",
   "metadata": {},
   "source": [
    "1. The number of unique cities where accidents have taken place in USA: 10658\n",
    "2. The Top 5 cities of USA with maximum number of accidents in 4 years are: Los Angeles, Miami, Charlotte, Houston, Dallas  \n",
    "3. The percentage of cities have more than 1000 accidents in a year is: 2.3552594538800786%\n",
    "4. 1167 cities of USA have had only accident in 4 years!\n",
    "5. The maximum number of accidents have taken place at around 4-5P.M. which can be a result of the fact that most people are travelling back to their homes after work which causes a rush hour.\n",
    "6. Suprisingly, maximum number of accidents occured on a Thursday and not on a weekend. This means that maybe, not a lot of people travel on the weekends"
   ]
  }
 ],
 "metadata": {
  "kernelspec": {
   "display_name": "Python 3",
   "language": "python",
   "name": "python3"
  },
  "language_info": {
   "codemirror_mode": {
    "name": "ipython",
    "version": 3
   },
   "file_extension": ".py",
   "mimetype": "text/x-python",
   "name": "python",
   "nbconvert_exporter": "python",
   "pygments_lexer": "ipython3",
   "version": "3.7.6"
  }
 },
 "nbformat": 4,
 "nbformat_minor": 4
}
